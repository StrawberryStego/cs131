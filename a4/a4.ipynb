{
  "cells": [
    {
      "cell_type": "code",
      "execution_count": 19,
      "id": "a564a597",
      "metadata": {
        "id": "a564a597"
      },
      "outputs": [],
      "source": [
        "from pyspark.sql import SparkSession\n",
        "from pyspark.ml.feature import VectorAssembler\n",
        "from pyspark.ml.regression import DecisionTreeRegressor\n",
        "from pyspark.ml import Pipeline\n",
        "from pyspark.ml.evaluation import RegressionEvaluator\n",
        "import pyspark.sql.functions as F\n",
        "import os\n",
        "\n",
        "spark = SparkSession.builder.appName(\"A4\").getOrCreate()\n",
        "\n"
      ]
    },
    {
      "cell_type": "code",
      "execution_count": 20,
      "id": "8535870a",
      "metadata": {
        "id": "8535870a"
      },
      "outputs": [],
      "source": [
        "# Create the dataset.\n",
        "csv_file = \"2019-01-h1.csv\"\n",
        "\n",
        "df = (spark.read.format(\"csv\")\n",
        "     .option(\"inferSchema\", \"true\")\n",
        "     .option(\"header\", \"true\")\n",
        "     .load(csv_file))"
      ]
    },
    {
      "cell_type": "code",
      "execution_count": 21,
      "id": "fb7b9ac2",
      "metadata": {
        "id": "fb7b9ac2"
      },
      "outputs": [],
      "source": [
        "data = df.select(\"passenger_count\", \"pulocationid\", \"dolocationid\", \"total_amount\")\n",
        "\n",
        "# Filter null values.\n",
        "cleaned_data = (data.filter(F.col(\"passenger_count\").isNotNull())\n",
        "                .filter(F.col(\"pulocationid\").isNotNull())\n",
        "                .filter(F.col(\"dolocationid\").isNotNull())\n",
        "                .filter(F.col(\"total_amount\").isNotNull()))"
      ]
    },
    {
      "cell_type": "code",
      "execution_count": 22,
      "id": "f2749db9",
      "metadata": {
        "id": "f2749db9"
      },
      "outputs": [],
      "source": [
        "# Train (80%) / Test (20%) split.\n",
        "trainDF, testDF = cleaned_data.randomSplit([0.8, 0.2], seed=99)"
      ]
    },
    {
      "cell_type": "code",
      "execution_count": 23,
      "id": "9b5ac5f1",
      "metadata": {
        "id": "9b5ac5f1"
      },
      "outputs": [],
      "source": [
        "# Pipeline: assemble the features.\n",
        "assembler = VectorAssembler(\n",
        "    inputCols=[\"passenger_count\", \"pulocationid\", \"dolocationid\"],\n",
        "    outputCol=\"features\",\n",
        ")"
      ]
    },
    {
      "cell_type": "code",
      "execution_count": 24,
      "id": "f9daffbc",
      "metadata": {
        "id": "f9daffbc"
      },
      "outputs": [],
      "source": [
        "dt = (DecisionTreeRegressor(labelCol=\"total_amount\",\n",
        "                            featuresCol=\"features\",\n",
        "                            maxDepth=5)\n",
        "     .setMaxBins(64)) # Avoid too many categories."
      ]
    },
    {
      "cell_type": "code",
      "execution_count": 25,
      "id": "86eb23ea",
      "metadata": {
        "id": "86eb23ea"
      },
      "outputs": [],
      "source": [
        "pipeline = Pipeline(stages=[assembler, dt])"
      ]
    },
    {
      "cell_type": "code",
      "execution_count": 26,
      "id": "37bb3a20",
      "metadata": {
        "id": "37bb3a20"
      },
      "outputs": [],
      "source": [
        "model = pipeline.fit(trainDF)"
      ]
    },
    {
      "cell_type": "code",
      "execution_count": 27,
      "id": "8dd5899d",
      "metadata": {
        "colab": {
          "base_uri": "https://localhost:8080/"
        },
        "id": "8dd5899d",
        "outputId": "c6fc8fb8-ced2-4afd-d7f2-7244b194ad92"
      },
      "outputs": [
        {
          "output_type": "stream",
          "name": "stdout",
          "text": [
            "+---------------+------------+------------+------------------+\n",
            "|passenger_count|pulocationid|dolocationid|prediction        |\n",
            "+---------------+------------+------------+------------------+\n",
            "|0.0            |4.0         |4.0         |22.232054401669217|\n",
            "|0.0            |4.0         |17.0        |18.342035834146   |\n",
            "|0.0            |4.0         |68.0        |18.063497363008622|\n",
            "|0.0            |4.0         |68.0        |18.063497363008622|\n",
            "|0.0            |4.0         |79.0        |18.063497363008622|\n",
            "|0.0            |4.0         |90.0        |18.063497363008622|\n",
            "|0.0            |4.0         |90.0        |18.063497363008622|\n",
            "|0.0            |4.0         |107.0       |18.063497363008622|\n",
            "|0.0            |4.0         |125.0       |18.063497363008622|\n",
            "|0.0            |4.0         |137.0       |18.063497363008622|\n",
            "+---------------+------------+------------+------------------+\n",
            "only showing top 10 rows\n",
            "\n"
          ]
        }
      ],
      "source": [
        "prediction = model.transform(testDF)\n",
        "prediction.select(\"passenger_count\", \"pulocationid\", \"dolocationid\", \"prediction\").show(10, truncate=False)"
      ]
    },
    {
      "cell_type": "code",
      "execution_count": 28,
      "id": "317205d6",
      "metadata": {
        "colab": {
          "base_uri": "https://localhost:8080/"
        },
        "id": "317205d6",
        "outputId": "f7f95f65-a8c1-4ede-99a7-495d03633ba6"
      },
      "outputs": [
        {
          "output_type": "stream",
          "name": "stdout",
          "text": [
            "RMSE: 64.46\n"
          ]
        }
      ],
      "source": [
        "rmse = RegressionEvaluator(labelCol=\"total_amount\",\n",
        "                           predictionCol=\"prediction\",\n",
        "                           metricName=\"rmse\").evaluate(prediction)\n",
        "\n",
        "print(f\"RMSE: {rmse:.2f}\")\n",
        "\n",
        "spark.stop()"
      ]
    }
  ],
  "metadata": {
    "kernelspec": {
      "display_name": "PySpark",
      "language": "python",
      "name": "pyspark"
    },
    "language_info": {
      "codemirror_mode": {
        "name": "ipython",
        "version": 3
      },
      "file_extension": ".py",
      "mimetype": "text/x-python",
      "name": "python",
      "nbconvert_exporter": "python",
      "pygments_lexer": "ipython3",
      "version": "3.11.8"
    },
    "colab": {
      "provenance": []
    }
  },
  "nbformat": 4,
  "nbformat_minor": 5
}